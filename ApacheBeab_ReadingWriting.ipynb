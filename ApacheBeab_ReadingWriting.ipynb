{
 "cells": [
  {
   "cell_type": "markdown",
   "metadata": {},
   "source": [
    "### File Systems"
   ]
  },
  {
   "cell_type": "code",
   "execution_count": 7,
   "metadata": {},
   "outputs": [],
   "source": [
    "# Importamos las bibliotecas necesarias\n",
    "import apache_beam as beam\n",
    "\n",
    "# Definimos la función que filtrará las cuentas con saldo mayor a 100\n",
    "def filtrar_cuentas(elemento):\n",
    "    _, _, saldo, _ = elemento.split(',')\n",
    "    if int(saldo) > 100:\n",
    "        return True\n",
    "    return False\n",
    "\n",
    "# Definimos nuestro pipeline\n",
    "with beam.Pipeline() as pipeline:\n",
    "    (\n",
    "        pipeline\n",
    "        | 'Leer archivo' >> beam.io.ReadFromText('data.txt')\n",
    "        | 'Filtrar cuentas con saldo > 100' >> beam.Filter(filtrar_cuentas)\n",
    "        | 'Escribir resultados en CSV' >> beam.io.WriteToText('resultados.csv')\n",
    "    )\n"
   ]
  },
  {
   "cell_type": "code",
   "execution_count": null,
   "metadata": {},
   "outputs": [],
   "source": []
  }
 ],
 "metadata": {
  "kernelspec": {
   "display_name": "Python 3",
   "language": "python",
   "name": "python3"
  },
  "language_info": {
   "codemirror_mode": {
    "name": "ipython",
    "version": 3
   },
   "file_extension": ".py",
   "mimetype": "text/x-python",
   "name": "python",
   "nbconvert_exporter": "python",
   "pygments_lexer": "ipython3",
   "version": "3.8.3"
  }
 },
 "nbformat": 4,
 "nbformat_minor": 4
}
