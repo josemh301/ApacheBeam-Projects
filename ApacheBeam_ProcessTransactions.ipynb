{
 "cells": [
  {
   "cell_type": "code",
   "execution_count": 1,
   "metadata": {},
   "outputs": [],
   "source": [
    "import apache_beam as beam\n",
    "\n",
    "class ProcessTransactions(beam.PTransform):\n",
    "    def __init__(self, conversion_rates):\n",
    "        self.conversion_rates = conversion_rates\n",
    "\n",
    "    def expand(self, pcoll):\n",
    "        def convert_to_usd(transaction):\n",
    "            account, name, amount, currency, city = transaction.split(',')\n",
    "            amount_usd = float(amount) * self.conversion_rates.get(currency, 1)\n",
    "            return account, name, amount_usd, \"USD\", city\n",
    "\n",
    "        def filter_large_transactions(transaction):\n",
    "            _, _, amount_usd, _, _ = transaction\n",
    "            return amount_usd > 100\n",
    "\n",
    "        return (\n",
    "            pcoll\n",
    "            | \"Convert to USD\" >> beam.Map(convert_to_usd)\n",
    "            | \"Filter Large Transactions\" >> beam.Filter(filter_large_transactions)\n",
    "        )\n"
   ]
  },
  {
   "cell_type": "code",
   "execution_count": 3,
   "metadata": {},
   "outputs": [],
   "source": [
    "conversion_rates = {\n",
    "    'EUR': 1.12,\n",
    "    'GBP': 1.3,\n",
    "    'JPY': 0.0094,\n",
    "    'AUD': 0.7,\n",
    "    'CNY': 0.15,\n",
    "    'INR': 0.014,\n",
    "    'ZAR': 0.07,\n",
    "    'RUB': 0.014\n",
    "}\n",
    "\n",
    "with beam.Pipeline() as p:\n",
    "    processed_transactions = (\n",
    "        p\n",
    "        | \"Read from data.txt\" >> beam.io.ReadFromText('data.txt')\n",
    "        | \"Process Transactions\" >> ProcessTransactions(conversion_rates)\n",
    "        | \"Write Results\" >> beam.io.WriteToText('outputProcessTransactions.txt')\n",
    "    )\n"
   ]
  },
  {
   "cell_type": "code",
   "execution_count": null,
   "metadata": {},
   "outputs": [],
   "source": []
  }
 ],
 "metadata": {
  "kernelspec": {
   "display_name": "Python 3",
   "language": "python",
   "name": "python3"
  },
  "language_info": {
   "codemirror_mode": {
    "name": "ipython",
    "version": 3
   },
   "file_extension": ".py",
   "mimetype": "text/x-python",
   "name": "python",
   "nbconvert_exporter": "python",
   "pygments_lexer": "ipython3",
   "version": "3.8.3"
  }
 },
 "nbformat": 4,
 "nbformat_minor": 4
}
