{
 "cells": [
  {
   "cell_type": "markdown",
   "metadata": {},
   "source": [
    "### Streaming data simulation"
   ]
  },
  {
   "cell_type": "code",
   "execution_count": 1,
   "metadata": {},
   "outputs": [
    {
     "name": "stderr",
     "output_type": "stream",
     "text": [
      "WARNING:apache_beam.runners.interactive.interactive_environment:Dependencies required for Interactive Beam PCollection visualization are not available, please use: `pip install apache-beam[interactive]` to install necessary dependencies to enable all data visualization features.\n"
     ]
    },
    {
     "data": {
      "application/javascript": [
       "\n",
       "        if (typeof window.interactive_beam_jquery == 'undefined') {\n",
       "          var jqueryScript = document.createElement('script');\n",
       "          jqueryScript.src = 'https://code.jquery.com/jquery-3.4.1.slim.min.js';\n",
       "          jqueryScript.type = 'text/javascript';\n",
       "          jqueryScript.onload = function() {\n",
       "            var datatableScript = document.createElement('script');\n",
       "            datatableScript.src = 'https://cdn.datatables.net/1.10.20/js/jquery.dataTables.min.js';\n",
       "            datatableScript.type = 'text/javascript';\n",
       "            datatableScript.onload = function() {\n",
       "              window.interactive_beam_jquery = jQuery.noConflict(true);\n",
       "              window.interactive_beam_jquery(document).ready(function($){\n",
       "                \n",
       "              });\n",
       "            }\n",
       "            document.head.appendChild(datatableScript);\n",
       "          };\n",
       "          document.head.appendChild(jqueryScript);\n",
       "        } else {\n",
       "          window.interactive_beam_jquery(document).ready(function($){\n",
       "            \n",
       "          });\n",
       "        }"
      ]
     },
     "metadata": {},
     "output_type": "display_data"
    },
    {
     "name": "stderr",
     "output_type": "stream",
     "text": [
      "WARNING:apache_beam.options.pipeline_options:Discarding unparseable args: ['-f', 'C:\\\\Users\\\\josem\\\\AppData\\\\Roaming\\\\jupyter\\\\runtime\\\\kernel-98ba2516-90c3-4a05-b4cb-bffa290f5283.json']\n",
      "WARNING:apache_beam.options.pipeline_options:Discarding unparseable args: ['-f', 'C:\\\\Users\\\\josem\\\\AppData\\\\Roaming\\\\jupyter\\\\runtime\\\\kernel-98ba2516-90c3-4a05-b4cb-bffa290f5283.json']\n"
     ]
    }
   ],
   "source": [
    "import apache_beam as beam\n",
    "from apache_beam.transforms.window import FixedWindows\n",
    "from apache_beam.options.pipeline_options import PipelineOptions\n",
    "import time\n",
    "\n",
    "# Simulate streaming by reading lines from data.txt at fixed intervals\n",
    "def simulate_streaming(file_name, interval=1):\n",
    "    with open(file_name, 'r') as file:\n",
    "        for line in file:\n",
    "            yield line\n",
    "            time.sleep(interval)\n",
    "\n",
    "# Process each window of data\n",
    "def process_window(elements):\n",
    "    # For this example, we'll just return the elements as they are\n",
    "    # You can add any processing logic here\n",
    "    return elements\n",
    "\n",
    "# Define the pipeline\n",
    "options = PipelineOptions(streaming=True)\n",
    "with beam.Pipeline(options=options) as pipeline:\n",
    "    (\n",
    "        pipeline\n",
    "        | 'Simulate Streaming' >> beam.Create(simulate_streaming('data.txt'))\n",
    "        | 'Assign to Fixed Windows' >> beam.WindowInto(FixedWindows(size=10))  # 10 seconds window\n",
    "        | 'Process Window' >> beam.Map(process_window)\n",
    "        | 'Write Results' >> beam.io.WriteToText('windowed_results.txt')\n",
    "    )\n"
   ]
  },
  {
   "cell_type": "markdown",
   "metadata": {},
   "source": [
    "### Overlapping windows"
   ]
  },
  {
   "cell_type": "code",
   "execution_count": 2,
   "metadata": {},
   "outputs": [
    {
     "name": "stderr",
     "output_type": "stream",
     "text": [
      "WARNING:apache_beam.options.pipeline_options:Discarding unparseable args: ['-f', 'C:\\\\Users\\\\josem\\\\AppData\\\\Roaming\\\\jupyter\\\\runtime\\\\kernel-98ba2516-90c3-4a05-b4cb-bffa290f5283.json']\n",
      "WARNING:apache_beam.options.pipeline_options:Discarding unparseable args: ['-f', 'C:\\\\Users\\\\josem\\\\AppData\\\\Roaming\\\\jupyter\\\\runtime\\\\kernel-98ba2516-90c3-4a05-b4cb-bffa290f5283.json']\n"
     ]
    }
   ],
   "source": [
    "from apache_beam.transforms.window import SlidingWindows\n",
    "from apache_beam.options.pipeline_options import PipelineOptions\n",
    "import time\n",
    "\n",
    "# Simulate streaming by reading lines from data.txt at fixed intervals\n",
    "def simulate_streaming(file_name, interval=1):\n",
    "    with open(file_name, 'r') as file:\n",
    "        for line in file:\n",
    "            yield line\n",
    "            time.sleep(interval)\n",
    "\n",
    "# Process each window of data\n",
    "def process_window(elements):\n",
    "    # For this example, we'll just return the elements as they are\n",
    "    # You can add any processing logic here\n",
    "    return elements\n",
    "\n",
    "# Define the pipeline\n",
    "options = PipelineOptions(streaming=True)\n",
    "with beam.Pipeline(options=options) as pipeline:\n",
    "    (\n",
    "        pipeline\n",
    "        | 'Simulate Streaming' >> beam.Create(simulate_streaming('data.txt'))\n",
    "        | 'Assign to Sliding Windows' >> beam.WindowInto(SlidingWindows(size=10, period=5))  # 10 seconds window that slides every 5 seconds\n",
    "        | 'Process Window' >> beam.Map(process_window)\n",
    "        | 'Write Results' >> beam.io.WriteToText('sliding_window_results.txt')\n",
    "    )\n"
   ]
  },
  {
   "cell_type": "markdown",
   "metadata": {},
   "source": [
    "### Session windows"
   ]
  },
  {
   "cell_type": "code",
   "execution_count": 3,
   "metadata": {},
   "outputs": [
    {
     "name": "stderr",
     "output_type": "stream",
     "text": [
      "WARNING:apache_beam.options.pipeline_options:Discarding unparseable args: ['-f', 'C:\\\\Users\\\\josem\\\\AppData\\\\Roaming\\\\jupyter\\\\runtime\\\\kernel-98ba2516-90c3-4a05-b4cb-bffa290f5283.json']\n",
      "WARNING:apache_beam.options.pipeline_options:Discarding unparseable args: ['-f', 'C:\\\\Users\\\\josem\\\\AppData\\\\Roaming\\\\jupyter\\\\runtime\\\\kernel-98ba2516-90c3-4a05-b4cb-bffa290f5283.json']\n"
     ]
    }
   ],
   "source": [
    "from apache_beam.transforms.window import Sessions\n",
    "from apache_beam.options.pipeline_options import PipelineOptions\n",
    "import time\n",
    "\n",
    "# Simulate streaming by reading lines from data.txt at fixed intervals\n",
    "def simulate_streaming(file_name, interval=1):\n",
    "    with open(file_name, 'r') as file:\n",
    "        for line in file:\n",
    "            yield line\n",
    "            time.sleep(interval)\n",
    "\n",
    "# Process each window of data\n",
    "def process_window(elements):\n",
    "    # For this example, we'll just return the elements as they are\n",
    "    # You can add any processing logic here\n",
    "    return elements\n",
    "\n",
    "# Define the pipeline\n",
    "options = PipelineOptions(streaming=True)\n",
    "with beam.Pipeline(options=options) as pipeline:\n",
    "    (\n",
    "        pipeline\n",
    "        | 'Simulate Streaming' >> beam.Create(simulate_streaming('data.txt'))\n",
    "        | 'Assign to Session Windows' >> beam.WindowInto(Sessions(gap_size=5*60))  # 5 minutes gap size\n",
    "        | 'Process Window' >> beam.Map(process_window)\n",
    "        | 'Write Results' >> beam.io.WriteToText('session_window_results.txt')\n",
    "    )\n"
   ]
  },
  {
   "cell_type": "code",
   "execution_count": null,
   "metadata": {},
   "outputs": [],
   "source": []
  }
 ],
 "metadata": {
  "kernelspec": {
   "display_name": "Python 3",
   "language": "python",
   "name": "python3"
  },
  "language_info": {
   "codemirror_mode": {
    "name": "ipython",
    "version": 3
   },
   "file_extension": ".py",
   "mimetype": "text/x-python",
   "name": "python",
   "nbconvert_exporter": "python",
   "pygments_lexer": "ipython3",
   "version": "3.8.3"
  }
 },
 "nbformat": 4,
 "nbformat_minor": 4
}
