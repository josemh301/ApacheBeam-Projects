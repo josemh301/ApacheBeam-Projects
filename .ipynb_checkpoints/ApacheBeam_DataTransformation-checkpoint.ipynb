{
 "cells": [
  {
   "cell_type": "code",
   "execution_count": 21,
   "metadata": {},
   "outputs": [
    {
     "name": "stdout",
     "output_type": "stream",
     "text": [
      "Github test\n"
     ]
    }
   ],
   "source": [
    "test=\"Github test\"\n",
    "print(test)"
   ]
  },
  {
   "cell_type": "code",
   "execution_count": 3,
   "metadata": {},
   "outputs": [
    {
     "name": "stdout",
     "output_type": "stream",
     "text": [
      "Collecting apache-beam\n",
      "  Using cached apache_beam-2.49.0-cp38-cp38-win_amd64.whl (4.9 MB)\n",
      "Requirement already satisfied: python-dateutil<3,>=2.8.0 in c:\\users\\josem\\anaconda3\\lib\\site-packages (from apache-beam) (2.8.1)\n",
      "Requirement already satisfied: fastavro<2,>=0.23.6 in c:\\users\\josem\\anaconda3\\lib\\site-packages (from apache-beam) (1.8.2)\n",
      "Requirement already satisfied: protobuf<4.24.0,>=3.20.3 in c:\\users\\josem\\anaconda3\\lib\\site-packages (from apache-beam) (4.21.10)\n",
      "Requirement already satisfied: crcmod<2.0,>=1.7 in c:\\users\\josem\\anaconda3\\lib\\site-packages (from apache-beam) (1.7)\n",
      "Requirement already satisfied: fasteners<1.0,>=0.3 in c:\\users\\josem\\anaconda3\\lib\\site-packages (from apache-beam) (0.18)\n",
      "Requirement already satisfied: grpcio!=1.48.0,<2,>=1.33.1 in c:\\users\\josem\\anaconda3\\lib\\site-packages (from apache-beam) (1.57.0)\n",
      "Requirement already satisfied: dill<0.3.2,>=0.3.1.1 in c:\\users\\josem\\anaconda3\\lib\\site-packages (from apache-beam) (0.3.1.1)\n",
      "Requirement already satisfied: requests<3.0.0,>=2.24.0 in c:\\users\\josem\\anaconda3\\lib\\site-packages (from apache-beam) (2.28.2)\n",
      "Requirement already satisfied: pymongo<5.0.0,>=3.8.0 in c:\\users\\josem\\anaconda3\\lib\\site-packages (from apache-beam) (4.4.1)\n",
      "Requirement already satisfied: httplib2<0.23.0,>=0.8 in c:\\users\\josem\\anaconda3\\lib\\site-packages (from apache-beam) (0.22.0)\n",
      "Requirement already satisfied: numpy<1.25.0,>=1.14.3 in c:\\users\\josem\\anaconda3\\lib\\site-packages (from apache-beam) (1.18.5)\n",
      "Requirement already satisfied: typing-extensions>=3.7.0 in c:\\users\\josem\\anaconda3\\lib\\site-packages (from apache-beam) (4.4.0)\n",
      "Requirement already satisfied: orjson<4.0 in c:\\users\\josem\\anaconda3\\lib\\site-packages (from apache-beam) (3.9.5)\n",
      "Requirement already satisfied: hdfs<3.0.0,>=2.1.0 in c:\\users\\josem\\anaconda3\\lib\\site-packages (from apache-beam) (2.7.2)\n",
      "Requirement already satisfied: objsize<0.7.0,>=0.6.1 in c:\\users\\josem\\anaconda3\\lib\\site-packages (from apache-beam) (0.6.1)\n",
      "Requirement already satisfied: pydot<2,>=1.2.0 in c:\\users\\josem\\anaconda3\\lib\\site-packages (from apache-beam) (1.4.2)\n",
      "Requirement already satisfied: cloudpickle~=2.2.1 in c:\\users\\josem\\anaconda3\\lib\\site-packages (from apache-beam) (2.2.1)\n",
      "Requirement already satisfied: proto-plus<2,>=1.7.1 in c:\\users\\josem\\anaconda3\\lib\\site-packages (from apache-beam) (1.22.3)\n",
      "Requirement already satisfied: regex>=2020.6.8 in c:\\users\\josem\\anaconda3\\lib\\site-packages (from apache-beam) (2022.10.31)\n",
      "Requirement already satisfied: pyarrow<12.0.0,>=3.0.0 in c:\\users\\josem\\anaconda3\\lib\\site-packages (from apache-beam) (11.0.0)\n",
      "Requirement already satisfied: zstandard<1,>=0.18.0 in c:\\users\\josem\\anaconda3\\lib\\site-packages (from apache-beam) (0.21.0)\n",
      "Requirement already satisfied: pytz>=2018.3 in c:\\users\\josem\\anaconda3\\lib\\site-packages (from apache-beam) (2020.1)\n",
      "Requirement already satisfied: six>=1.5 in c:\\users\\josem\\anaconda3\\lib\\site-packages (from python-dateutil<3,>=2.8.0->apache-beam) (1.15.0)\n",
      "Requirement already satisfied: urllib3<1.27,>=1.21.1 in c:\\users\\josem\\anaconda3\\lib\\site-packages (from requests<3.0.0,>=2.24.0->apache-beam) (1.26.14)\n",
      "Requirement already satisfied: charset-normalizer<4,>=2 in c:\\users\\josem\\anaconda3\\lib\\site-packages (from requests<3.0.0,>=2.24.0->apache-beam) (3.0.1)\n",
      "Requirement already satisfied: certifi>=2017.4.17 in c:\\users\\josem\\anaconda3\\lib\\site-packages (from requests<3.0.0,>=2.24.0->apache-beam) (2022.12.7)\n",
      "Requirement already satisfied: idna<4,>=2.5 in c:\\users\\josem\\anaconda3\\lib\\site-packages (from requests<3.0.0,>=2.24.0->apache-beam) (2.10)\n",
      "Requirement already satisfied: dnspython<3.0.0,>=1.16.0 in c:\\users\\josem\\anaconda3\\lib\\site-packages (from pymongo<5.0.0,>=3.8.0->apache-beam) (2.4.2)\n",
      "Requirement already satisfied: pyparsing!=3.0.0,!=3.0.1,!=3.0.2,!=3.0.3,<4,>=2.4.2; python_version > \"3.0\" in c:\\users\\josem\\anaconda3\\lib\\site-packages (from httplib2<0.23.0,>=0.8->apache-beam) (2.4.7)\n",
      "Requirement already satisfied: docopt in c:\\users\\josem\\anaconda3\\lib\\site-packages (from hdfs<3.0.0,>=2.1.0->apache-beam) (0.6.2)\n",
      "Installing collected packages: apache-beam\n",
      "Successfully installed apache-beam-2.49.0\n"
     ]
    }
   ],
   "source": [
    "!pip install apache-beam"
   ]
  },
  {
   "cell_type": "code",
   "execution_count": 6,
   "metadata": {},
   "outputs": [
    {
     "name": "stdout",
     "output_type": "stream",
     "text": [
      "Requirement already satisfied: apache-beam[interactive] in c:\\users\\josem\\anaconda3\\lib\\site-packages (2.49.0)\n",
      "Requirement already satisfied: zstandard<1,>=0.18.0 in c:\\users\\josem\\anaconda3\\lib\\site-packages (from apache-beam[interactive]) (0.21.0)\n",
      "Requirement already satisfied: proto-plus<2,>=1.7.1 in c:\\users\\josem\\anaconda3\\lib\\site-packages (from apache-beam[interactive]) (1.22.3)\n",
      "Requirement already satisfied: pymongo<5.0.0,>=3.8.0 in c:\\users\\josem\\anaconda3\\lib\\site-packages (from apache-beam[interactive]) (4.4.1)\n",
      "Requirement already satisfied: pydot<2,>=1.2.0 in c:\\users\\josem\\anaconda3\\lib\\site-packages (from apache-beam[interactive]) (1.4.2)\n",
      "Requirement already satisfied: httplib2<0.23.0,>=0.8 in c:\\users\\josem\\anaconda3\\lib\\site-packages (from apache-beam[interactive]) (0.22.0)\n",
      "Requirement already satisfied: regex>=2020.6.8 in c:\\users\\josem\\anaconda3\\lib\\site-packages (from apache-beam[interactive]) (2022.10.31)\n",
      "Requirement already satisfied: crcmod<2.0,>=1.7 in c:\\users\\josem\\anaconda3\\lib\\site-packages (from apache-beam[interactive]) (1.7)\n",
      "Requirement already satisfied: pyarrow<12.0.0,>=3.0.0 in c:\\users\\josem\\anaconda3\\lib\\site-packages (from apache-beam[interactive]) (11.0.0)\n",
      "Requirement already satisfied: orjson<4.0 in c:\\users\\josem\\anaconda3\\lib\\site-packages (from apache-beam[interactive]) (3.9.5)\n",
      "Requirement already satisfied: fastavro<2,>=0.23.6 in c:\\users\\josem\\anaconda3\\lib\\site-packages (from apache-beam[interactive]) (1.8.2)\n",
      "Requirement already satisfied: hdfs<3.0.0,>=2.1.0 in c:\\users\\josem\\anaconda3\\lib\\site-packages (from apache-beam[interactive]) (2.7.2)\n",
      "Requirement already satisfied: cloudpickle~=2.2.1 in c:\\users\\josem\\anaconda3\\lib\\site-packages (from apache-beam[interactive]) (2.2.1)\n",
      "Requirement already satisfied: protobuf<4.24.0,>=3.20.3 in c:\\users\\josem\\anaconda3\\lib\\site-packages (from apache-beam[interactive]) (4.21.10)\n",
      "Requirement already satisfied: python-dateutil<3,>=2.8.0 in c:\\users\\josem\\anaconda3\\lib\\site-packages (from apache-beam[interactive]) (2.8.1)\n",
      "Requirement already satisfied: pytz>=2018.3 in c:\\users\\josem\\anaconda3\\lib\\site-packages (from apache-beam[interactive]) (2020.1)\n",
      "Requirement already satisfied: grpcio!=1.48.0,<2,>=1.33.1 in c:\\users\\josem\\anaconda3\\lib\\site-packages (from apache-beam[interactive]) (1.57.0)\n",
      "Requirement already satisfied: numpy<1.25.0,>=1.14.3 in c:\\users\\josem\\anaconda3\\lib\\site-packages (from apache-beam[interactive]) (1.18.5)\n",
      "Requirement already satisfied: objsize<0.7.0,>=0.6.1 in c:\\users\\josem\\anaconda3\\lib\\site-packages (from apache-beam[interactive]) (0.6.1)\n",
      "Requirement already satisfied: dill<0.3.2,>=0.3.1.1 in c:\\users\\josem\\anaconda3\\lib\\site-packages (from apache-beam[interactive]) (0.3.1.1)\n",
      "Requirement already satisfied: fasteners<1.0,>=0.3 in c:\\users\\josem\\anaconda3\\lib\\site-packages (from apache-beam[interactive]) (0.18)\n",
      "Requirement already satisfied: requests<3.0.0,>=2.24.0 in c:\\users\\josem\\anaconda3\\lib\\site-packages (from apache-beam[interactive]) (2.28.2)\n",
      "Requirement already satisfied: typing-extensions>=3.7.0 in c:\\users\\josem\\anaconda3\\lib\\site-packages (from apache-beam[interactive]) (4.4.0)\n",
      "Collecting ipython<9,>=8; extra == \"interactive\"\n",
      "  Downloading ipython-8.12.2-py3-none-any.whl (797 kB)\n",
      "Collecting google-cloud-dataproc<6,>=5.0.0; extra == \"interactive\"\n",
      "  Downloading google_cloud_dataproc-5.4.3-py2.py3-none-any.whl (307 kB)\n",
      "Collecting ipykernel<7,>=6; extra == \"interactive\"\n",
      "  Downloading ipykernel-6.25.1-py3-none-any.whl (154 kB)\n",
      "Collecting facets-overview<2,>=1.1.0; extra == \"interactive\"\n",
      "  Downloading facets_overview-1.1.1-py2.py3-none-any.whl (22 kB)\n",
      "Collecting jupyter-client!=6.1.13,<8.2.1,>=6.1.11; extra == \"interactive\"\n",
      "  Downloading jupyter_client-8.2.0-py3-none-any.whl (103 kB)\n",
      "Collecting pandas!=1.5.0,!=1.5.1,<1.6,>=1.4.3; python_version >= \"3.8\" and extra == \"interactive\"\n",
      "  Downloading pandas-1.5.3-cp38-cp38-win_amd64.whl (11.0 MB)\n",
      "Collecting ipywidgets<9,>=8; extra == \"interactive\"\n",
      "  Downloading ipywidgets-8.1.0-py3-none-any.whl (139 kB)\n",
      "Requirement already satisfied: nbformat<6,>=5.0.5; extra == \"interactive\" in c:\\users\\josem\\anaconda3\\lib\\site-packages (from apache-beam[interactive]) (5.0.7)\n",
      "Collecting nbconvert<8,>=6.2.0; extra == \"interactive\"\n",
      "  Downloading nbconvert-7.7.4-py3-none-any.whl (254 kB)\n",
      "Collecting timeloop<2,>=1.0.2; extra == \"interactive\"\n",
      "  Downloading timeloop-1.0.2.tar.gz (2.9 kB)\n",
      "Requirement already satisfied: dnspython<3.0.0,>=1.16.0 in c:\\users\\josem\\anaconda3\\lib\\site-packages (from pymongo<5.0.0,>=3.8.0->apache-beam[interactive]) (2.4.2)\n",
      "Requirement already satisfied: pyparsing>=2.1.4 in c:\\users\\josem\\anaconda3\\lib\\site-packages (from pydot<2,>=1.2.0->apache-beam[interactive]) (2.4.7)\n",
      "Requirement already satisfied: docopt in c:\\users\\josem\\anaconda3\\lib\\site-packages (from hdfs<3.0.0,>=2.1.0->apache-beam[interactive]) (0.6.2)\n",
      "Requirement already satisfied: six>=1.9.0 in c:\\users\\josem\\anaconda3\\lib\\site-packages (from hdfs<3.0.0,>=2.1.0->apache-beam[interactive]) (1.15.0)\n",
      "Requirement already satisfied: urllib3<1.27,>=1.21.1 in c:\\users\\josem\\anaconda3\\lib\\site-packages (from requests<3.0.0,>=2.24.0->apache-beam[interactive]) (1.26.14)\n",
      "Requirement already satisfied: certifi>=2017.4.17 in c:\\users\\josem\\anaconda3\\lib\\site-packages (from requests<3.0.0,>=2.24.0->apache-beam[interactive]) (2022.12.7)\n",
      "Requirement already satisfied: charset-normalizer<4,>=2 in c:\\users\\josem\\anaconda3\\lib\\site-packages (from requests<3.0.0,>=2.24.0->apache-beam[interactive]) (3.0.1)\n",
      "Requirement already satisfied: idna<4,>=2.5 in c:\\users\\josem\\anaconda3\\lib\\site-packages (from requests<3.0.0,>=2.24.0->apache-beam[interactive]) (2.10)\n",
      "Collecting traitlets>=5\n",
      "  Downloading traitlets-5.9.0-py3-none-any.whl (117 kB)\n",
      "Requirement already satisfied: pygments>=2.4.0 in c:\\users\\josem\\anaconda3\\lib\\site-packages (from ipython<9,>=8; extra == \"interactive\"->apache-beam[interactive]) (2.6.1)\n",
      "Requirement already satisfied: backcall in c:\\users\\josem\\anaconda3\\lib\\site-packages (from ipython<9,>=8; extra == \"interactive\"->apache-beam[interactive]) (0.2.0)\n",
      "Requirement already satisfied: decorator in c:\\users\\josem\\anaconda3\\lib\\site-packages (from ipython<9,>=8; extra == \"interactive\"->apache-beam[interactive]) (4.4.2)\n",
      "Requirement already satisfied: colorama; sys_platform == \"win32\" in c:\\users\\josem\\anaconda3\\lib\\site-packages (from ipython<9,>=8; extra == \"interactive\"->apache-beam[interactive]) (0.4.3)\n",
      "Collecting prompt-toolkit!=3.0.37,<3.1.0,>=3.0.30\n",
      "  Downloading prompt_toolkit-3.0.39-py3-none-any.whl (385 kB)\n",
      "Collecting matplotlib-inline\n",
      "  Downloading matplotlib_inline-0.1.6-py3-none-any.whl (9.4 kB)\n",
      "Requirement already satisfied: pickleshare in c:\\users\\josem\\anaconda3\\lib\\site-packages (from ipython<9,>=8; extra == \"interactive\"->apache-beam[interactive]) (0.7.5)\n",
      "Requirement already satisfied: jedi>=0.16 in c:\\users\\josem\\anaconda3\\lib\\site-packages (from ipython<9,>=8; extra == \"interactive\"->apache-beam[interactive]) (0.17.1)"
     ]
    },
    {
     "name": "stderr",
     "output_type": "stream",
     "text": [
      "ERROR: spyder 4.1.4 requires pyqt5<5.13; python_version >= \"3\", which is not installed.\n",
      "ERROR: spyder 4.1.4 requires pyqtwebengine<5.13; python_version >= \"3\", which is not installed.\n",
      "ERROR: spacy-transformers 1.0.2 has requirement spacy<3.1.0,>=3.0.0, but you'll have spacy 3.2.5 which is incompatible.\n",
      "ERROR: pandas 1.5.3 has requirement numpy>=1.20.3; python_version < \"3.10\", but you'll have numpy 1.18.5 which is incompatible.\n",
      "ERROR: nbconvert 7.7.4 has requirement nbformat>=5.7, but you'll have nbformat 5.0.7 which is incompatible.\n",
      "ERROR: jupyter-client 8.2.0 has requirement python-dateutil>=2.8.2, but you'll have python-dateutil 2.8.1 which is incompatible.\n",
      "ERROR: es-dep-news-trf 3.0.0 has requirement spacy<3.1.0,>=3.0.0, but you'll have spacy 3.2.5 which is incompatible.\n",
      "ERROR: es-core-news-sm 3.0.0 has requirement spacy<3.1.0,>=3.0.0, but you'll have spacy 3.2.5 which is incompatible.\n",
      "ERROR: es-core-news-md 3.0.0 has requirement spacy<3.1.0,>=3.0.0, but you'll have spacy 3.2.5 which is incompatible.\n",
      "ERROR: es-core-news-lg 3.0.0 has requirement spacy<3.1.0,>=3.0.0, but you'll have spacy 3.2.5 which is incompatible.\n",
      "ERROR: nbclient 0.8.0 has requirement nbformat>=5.1, but you'll have nbformat 5.0.7 which is incompatible.\n",
      "ERROR: Could not install packages due to an EnvironmentError: [WinError 5] Acceso denegado: 'C:\\\\Users\\\\josem\\\\anaconda3\\\\Lib\\\\site-packages\\\\~mq\\\\backend\\\\cython\\\\constants.cp38-win_amd64.pyd'\n",
      "Consider using the `--user` option or check the permissions.\n",
      "\n"
     ]
    },
    {
     "name": "stdout",
     "output_type": "stream",
     "text": [
      "\n",
      "Collecting stack-data\n",
      "  Downloading stack_data-0.6.2-py3-none-any.whl (24 kB)\n",
      "Collecting google-api-core[grpc]!=2.0.*,!=2.1.*,!=2.10.*,!=2.2.*,!=2.3.*,!=2.4.*,!=2.5.*,!=2.6.*,!=2.7.*,!=2.8.*,!=2.9.*,<3.0.0dev,>=1.34.0\n",
      "  Downloading google_api_core-2.11.1-py3-none-any.whl (120 kB)\n",
      "Collecting grpc-google-iam-v1<1.0.0dev,>=0.12.4\n",
      "  Downloading grpc_google_iam_v1-0.12.6-py2.py3-none-any.whl (26 kB)\n",
      "Requirement already satisfied: packaging in c:\\users\\josem\\anaconda3\\lib\\site-packages (from ipykernel<7,>=6; extra == \"interactive\"->apache-beam[interactive]) (20.4)\n",
      "Collecting pyzmq>=20\n",
      "  Downloading pyzmq-25.1.1-cp38-cp38-win_amd64.whl (1.2 MB)\n",
      "Requirement already satisfied: psutil in c:\\users\\josem\\anaconda3\\lib\\site-packages (from ipykernel<7,>=6; extra == \"interactive\"->apache-beam[interactive]) (5.7.0)\n",
      "Collecting tornado>=6.1\n",
      "  Downloading tornado-6.3.3-cp38-abi3-win_amd64.whl (429 kB)\n",
      "Collecting jupyter-core!=5.0.*,>=4.12\n",
      "  Downloading jupyter_core-5.3.1-py3-none-any.whl (93 kB)\n",
      "Collecting comm>=0.1.1\n",
      "  Downloading comm-0.1.4-py3-none-any.whl (6.6 kB)\n",
      "Collecting nest-asyncio\n",
      "  Downloading nest_asyncio-1.5.7-py3-none-any.whl (5.3 kB)\n",
      "Collecting debugpy>=1.6.5\n",
      "  Downloading debugpy-1.6.7.post1-cp38-cp38-win_amd64.whl (4.9 MB)\n",
      "Collecting importlib-metadata>=4.8.3; python_version < \"3.10\"\n",
      "  Downloading importlib_metadata-6.8.0-py3-none-any.whl (22 kB)\n",
      "Collecting jupyterlab-widgets~=3.0.7\n",
      "  Downloading jupyterlab_widgets-3.0.8-py3-none-any.whl (214 kB)\n",
      "Collecting widgetsnbextension~=4.0.7\n",
      "  Downloading widgetsnbextension-4.0.8-py3-none-any.whl (2.3 MB)\n",
      "Requirement already satisfied: jsonschema!=2.5.0,>=2.4 in c:\\users\\josem\\anaconda3\\lib\\site-packages (from nbformat<6,>=5.0.5; extra == \"interactive\"->apache-beam[interactive]) (3.2.0)\n",
      "Requirement already satisfied: ipython-genutils in c:\\users\\josem\\anaconda3\\lib\\site-packages (from nbformat<6,>=5.0.5; extra == \"interactive\"->apache-beam[interactive]) (0.2.0)\n",
      "Requirement already satisfied: bleach!=5.0.0 in c:\\users\\josem\\anaconda3\\lib\\site-packages (from nbconvert<8,>=6.2.0; extra == \"interactive\"->apache-beam[interactive]) (3.1.5)\n",
      "Collecting jinja2>=3.0\n",
      "  Downloading Jinja2-3.1.2-py3-none-any.whl (133 kB)\n",
      "Collecting markupsafe>=2.0\n",
      "  Downloading MarkupSafe-2.1.3-cp38-cp38-win_amd64.whl (17 kB)\n",
      "Requirement already satisfied: beautifulsoup4 in c:\\users\\josem\\anaconda3\\lib\\site-packages (from nbconvert<8,>=6.2.0; extra == \"interactive\"->apache-beam[interactive]) (4.9.1)\n",
      "Collecting nbclient>=0.5.0\n",
      "  Downloading nbclient-0.8.0-py3-none-any.whl (73 kB)\n",
      "Collecting tinycss2\n",
      "  Downloading tinycss2-1.2.1-py3-none-any.whl (21 kB)\n",
      "Collecting jupyterlab-pygments\n",
      "  Downloading jupyterlab_pygments-0.2.2-py2.py3-none-any.whl (21 kB)\n",
      "Collecting mistune<4,>=2.0.3\n",
      "  Downloading mistune-3.0.1-py3-none-any.whl (47 kB)\n",
      "Requirement already satisfied: pandocfilters>=1.4.1 in c:\\users\\josem\\anaconda3\\lib\\site-packages (from nbconvert<8,>=6.2.0; extra == \"interactive\"->apache-beam[interactive]) (1.4.2)\n",
      "Requirement already satisfied: defusedxml in c:\\users\\josem\\anaconda3\\lib\\site-packages (from nbconvert<8,>=6.2.0; extra == \"interactive\"->apache-beam[interactive]) (0.6.0)\n",
      "Requirement already satisfied: wcwidth in c:\\users\\josem\\anaconda3\\lib\\site-packages (from prompt-toolkit!=3.0.37,<3.1.0,>=3.0.30->ipython<9,>=8; extra == \"interactive\"->apache-beam[interactive]) (0.2.5)\n",
      "Requirement already satisfied: parso<0.8.0,>=0.7.0 in c:\\users\\josem\\anaconda3\\lib\\site-packages (from jedi>=0.16->ipython<9,>=8; extra == \"interactive\"->apache-beam[interactive]) (0.7.0)\n",
      "Collecting asttokens>=2.1.0\n",
      "  Downloading asttokens-2.2.1-py2.py3-none-any.whl (26 kB)\n",
      "Collecting pure-eval\n",
      "  Downloading pure_eval-0.2.2-py3-none-any.whl (11 kB)\n",
      "Collecting executing>=1.2.0\n",
      "  Downloading executing-1.2.0-py2.py3-none-any.whl (24 kB)\n",
      "Collecting google-auth<3.0.dev0,>=2.14.1\n",
      "  Downloading google_auth-2.22.0-py2.py3-none-any.whl (181 kB)\n",
      "Collecting googleapis-common-protos<2.0.dev0,>=1.56.2\n",
      "  Downloading googleapis_common_protos-1.60.0-py2.py3-none-any.whl (227 kB)\n",
      "Collecting grpcio-status<2.0.dev0,>=1.33.2; extra == \"grpc\"\n",
      "  Downloading grpcio_status-1.57.0-py3-none-any.whl (5.1 kB)\n",
      "Collecting pywin32>=300; sys_platform == \"win32\" and platform_python_implementation != \"PyPy\"\n",
      "  Downloading pywin32-306-cp38-cp38-win_amd64.whl (9.4 MB)\n",
      "Collecting platformdirs>=2.5\n",
      "  Downloading platformdirs-3.10.0-py3-none-any.whl (17 kB)\n",
      "Requirement already satisfied: zipp>=0.5 in c:\\users\\josem\\anaconda3\\lib\\site-packages (from importlib-metadata>=4.8.3; python_version < \"3.10\"->jupyter-client!=6.1.13,<8.2.1,>=6.1.11; extra == \"interactive\"->apache-beam[interactive]) (3.1.0)\n",
      "Requirement already satisfied: attrs>=17.4.0 in c:\\users\\josem\\anaconda3\\lib\\site-packages (from jsonschema!=2.5.0,>=2.4->nbformat<6,>=5.0.5; extra == \"interactive\"->apache-beam[interactive]) (19.3.0)\n",
      "Requirement already satisfied: pyrsistent>=0.14.0 in c:\\users\\josem\\anaconda3\\lib\\site-packages (from jsonschema!=2.5.0,>=2.4->nbformat<6,>=5.0.5; extra == \"interactive\"->apache-beam[interactive]) (0.16.0)\n",
      "Requirement already satisfied: setuptools in c:\\users\\josem\\anaconda3\\lib\\site-packages (from jsonschema!=2.5.0,>=2.4->nbformat<6,>=5.0.5; extra == \"interactive\"->apache-beam[interactive]) (49.2.0.post20200714)\n",
      "Requirement already satisfied: webencodings in c:\\users\\josem\\anaconda3\\lib\\site-packages (from bleach!=5.0.0->nbconvert<8,>=6.2.0; extra == \"interactive\"->apache-beam[interactive]) (0.5.1)\n",
      "Requirement already satisfied: soupsieve>1.2 in c:\\users\\josem\\anaconda3\\lib\\site-packages (from beautifulsoup4->nbconvert<8,>=6.2.0; extra == \"interactive\"->apache-beam[interactive]) (2.0.1)\n",
      "Collecting rsa<5,>=3.1.4\n",
      "  Downloading rsa-4.9-py3-none-any.whl (34 kB)\n",
      "Collecting pyasn1-modules>=0.2.1\n",
      "  Downloading pyasn1_modules-0.3.0-py2.py3-none-any.whl (181 kB)\n",
      "Collecting cachetools<6.0,>=2.0.0\n",
      "  Downloading cachetools-5.3.1-py3-none-any.whl (9.3 kB)\n",
      "Collecting pyasn1>=0.1.3\n",
      "  Downloading pyasn1-0.5.0-py2.py3-none-any.whl (83 kB)\n",
      "Building wheels for collected packages: timeloop\n",
      "  Building wheel for timeloop (setup.py): started\n",
      "  Building wheel for timeloop (setup.py): finished with status 'done'\n",
      "  Created wheel for timeloop: filename=timeloop-1.0.2-py3-none-any.whl size=3726 sha256=1e4ed13944e6cdb0e1b90707ff43b7c0d2e7617d4dd21bfd5af87bb7054214c3\n",
      "  Stored in directory: c:\\users\\josem\\appdata\\local\\pip\\cache\\wheels\\f8\\69\\2a\\86476a2decfc2111dd1f10e723764a4d267b3bde7a47cd366e\n",
      "Successfully built timeloop\n",
      "Installing collected packages: traitlets, prompt-toolkit, matplotlib-inline, asttokens, pure-eval, executing, stack-data, ipython, pyasn1, rsa, pyasn1-modules, cachetools, google-auth, googleapis-common-protos, grpcio-status, google-api-core, grpc-google-iam-v1, google-cloud-dataproc, pyzmq, importlib-metadata, pywin32, platformdirs, jupyter-core, tornado, jupyter-client, comm, nest-asyncio, debugpy, ipykernel, pandas, facets-overview, jupyterlab-widgets, widgetsnbextension, ipywidgets, markupsafe, jinja2, nbclient, tinycss2, jupyterlab-pygments, mistune, nbconvert, timeloop\n",
      "  Attempting uninstall: traitlets\n",
      "    Found existing installation: traitlets 4.3.3\n",
      "    Uninstalling traitlets-4.3.3:\n",
      "      Successfully uninstalled traitlets-4.3.3\n",
      "  Attempting uninstall: prompt-toolkit\n",
      "    Found existing installation: prompt-toolkit 3.0.5\n",
      "    Uninstalling prompt-toolkit-3.0.5:\n",
      "      Successfully uninstalled prompt-toolkit-3.0.5\n",
      "  Attempting uninstall: ipython\n",
      "    Found existing installation: ipython 7.16.1\n",
      "    Uninstalling ipython-7.16.1:\n",
      "      Successfully uninstalled ipython-7.16.1\n",
      "  Attempting uninstall: pyzmq\n",
      "    Found existing installation: pyzmq 19.0.1\n",
      "    Uninstalling pyzmq-19.0.1:\n",
      "      Successfully uninstalled pyzmq-19.0.1\n"
     ]
    }
   ],
   "source": [
    "!pip install apache-beam[interactive]"
   ]
  },
  {
   "cell_type": "code",
   "execution_count": 8,
   "metadata": {},
   "outputs": [],
   "source": [
    "import apache_beam as beam\n",
    "\n",
    "# Definir la función de transformación\n",
    "def split_row(element):\n",
    "    return element.split(',')\n",
    "\n",
    "def filter_accounts(element):\n",
    "    return int(element[2]) > 10  # Filtrar cuentas con más de 10 transacciones\n",
    "\n",
    "# Crear el pipeline\n",
    "with beam.Pipeline() as pipeline:\n",
    "    (\n",
    "        pipeline\n",
    "        | 'Read from text file' >> beam.io.ReadFromText('data.txt')\n",
    "        | 'Split rows' >> beam.Map(split_row)\n",
    "        | 'Filter accounts' >> beam.Filter(filter_accounts)\n",
    "        | 'Write results' >> beam.io.WriteToText('output.txt')\n",
    "    )\n"
   ]
  },
  {
   "cell_type": "markdown",
   "metadata": {},
   "source": [
    "### ParDo"
   ]
  },
  {
   "cell_type": "code",
   "execution_count": 9,
   "metadata": {},
   "outputs": [
    {
     "name": "stdout",
     "output_type": "stream",
     "text": [
      "{'account': 'account1', 'name': 'John', 'transactions': 50}\n",
      "{'account': 'account2', 'name': 'Jane', 'transactions': 150}\n",
      "{'account': 'account3', 'name': 'Bob', 'transactions': 200}\n",
      "{'account': 'account4', 'name': 'Alice', 'transactions': 30}\n",
      "{'account': 'account5', 'name': 'Charlie', 'transactions': 120}\n",
      "{'account': 'account6', 'name': 'Eve', 'transactions': 90}\n",
      "{'account': 'account7', 'name': 'David', 'transactions': 180}\n",
      "{'account': 'account8', 'name': 'Fay', 'transactions': 60}\n",
      "{'account': 'account9', 'name': 'Gary', 'transactions': 110}\n",
      "{'account': 'account10', 'name': 'Holly', 'transactions': 70}\n",
      "{'account': 'account11', 'name': 'Harry', 'transactions': 70}\n"
     ]
    }
   ],
   "source": [
    "class ConvertToDict(beam.DoFn):\n",
    "    def process(self, element):\n",
    "        # Dividir cada línea por comas\n",
    "        account, name, transactions = element.split(',')\n",
    "        # Devolver un diccionario\n",
    "        return [{\n",
    "            'account': account,\n",
    "            'name': name,\n",
    "            'transactions': int(transactions)\n",
    "        }]\n",
    "\n",
    "with beam.Pipeline() as pipeline:\n",
    "    processed_data = (\n",
    "        pipeline\n",
    "        | 'Read from text file' >> beam.io.ReadFromText('data.txt')\n",
    "        | 'Convert to dict' >> beam.ParDo(ConvertToDict())\n",
    "        | 'Print results' >> beam.Map(print)\n",
    "    )\n"
   ]
  },
  {
   "cell_type": "code",
   "execution_count": 10,
   "metadata": {},
   "outputs": [
    {
     "name": "stdout",
     "output_type": "stream",
     "text": [
      "Jane\n",
      "150\n",
      "Bob\n",
      "200\n",
      "Charlie\n",
      "120\n",
      "David\n",
      "180\n",
      "Gary\n",
      "110\n"
     ]
    }
   ],
   "source": [
    "class ProcessTransactions(beam.DoFn):\n",
    "    def process(self, element):\n",
    "        # Dividir cada línea por comas\n",
    "        account, name, transactions = element.split(',')\n",
    "        transactions = int(transactions)\n",
    "        \n",
    "        # Si las transacciones son mayores que 100, emitir dos elementos\n",
    "        if transactions > 100:\n",
    "            yield name\n",
    "            yield str(transactions)\n",
    "            \n",
    "with beam.Pipeline() as pipeline:\n",
    "    processed_data = (\n",
    "        pipeline\n",
    "        | 'Read from text file' >> beam.io.ReadFromText('data.txt')\n",
    "        | 'Process transactions' >> beam.ParDo(ProcessTransactions())\n",
    "        | 'Print results' >> beam.Map(print)\n",
    "    )\n"
   ]
  },
  {
   "cell_type": "markdown",
   "metadata": {},
   "source": [
    "### GroupByKey"
   ]
  },
  {
   "cell_type": "code",
   "execution_count": 11,
   "metadata": {},
   "outputs": [
    {
     "name": "stdout",
     "output_type": "stream",
     "text": [
      "('John', [50])\n",
      "('Jane', [150])\n",
      "('Bob', [200])\n",
      "('Alice', [30])\n",
      "('Charlie', [120])\n",
      "('Eve', [90])\n",
      "('David', [180])\n",
      "('Fay', [60])\n",
      "('Gary', [110])\n",
      "('Holly', [70])\n",
      "('Harry', [70])\n"
     ]
    }
   ],
   "source": [
    "class CreateKeyValuePairs(beam.DoFn):\n",
    "    def process(self, element):\n",
    "        # Dividir cada línea por comas\n",
    "        account, name, transactions = element.split(',')\n",
    "        transactions = int(transactions)\n",
    "        \n",
    "        # Emitir pares clave-valor\n",
    "        yield (name, transactions)\n",
    "\n",
    "with beam.Pipeline() as pipeline:\n",
    "    grouped_data = (\n",
    "        pipeline\n",
    "        | 'Read from text file' >> beam.io.ReadFromText('data.txt')\n",
    "        | 'Create key-value pairs' >> beam.ParDo(CreateKeyValuePairs())\n",
    "        | 'Group by key' >> beam.GroupByKey()\n",
    "        | 'Print results' >> beam.Map(print)\n",
    "    )\n"
   ]
  },
  {
   "cell_type": "code",
   "execution_count": 14,
   "metadata": {},
   "outputs": [
    {
     "name": "stdout",
     "output_type": "stream",
     "text": [
      "[('Alice', [30]), ('John', [50]), ('Fay', [60]), ('Harry', [70]), ('Holly', [70]), ('Eve', [90]), ('Gary', [110]), ('Charlie', [120]), ('Jane', [150]), ('David', [180]), ('Bob', [200])]\n"
     ]
    }
   ],
   "source": [
    "from apache_beam.transforms.combiners import Top\n",
    "\n",
    "# Función para extraer el valor de las transacciones para usarlo como clave de ordenación\n",
    "def get_transaction_value(element):\n",
    "    # element es una tupla como ('John', [50])\n",
    "    # Devolvemos el valor negativo para ordenar de mayor a menor\n",
    "    return -element[1][0]\n",
    "\n",
    "with beam.Pipeline() as pipeline:\n",
    "    sorted_results = (\n",
    "        pipeline\n",
    "        | 'Create data' >> beam.Create([\n",
    "            ('John', [50]),\n",
    "            ('Jane', [150]),\n",
    "            ('Bob', [200]),\n",
    "            ('Alice', [30]),\n",
    "            ('Charlie', [120]),\n",
    "            ('Eve', [90]),\n",
    "            ('David', [180]),\n",
    "            ('Fay', [60]),\n",
    "            ('Gary', [110]),\n",
    "            ('Holly', [70]),\n",
    "            ('Harry', [70])\n",
    "        ])\n",
    "        | 'Get top transactions' >> Top.Of(11, key=get_transaction_value)  # 11 porque hay 11 elementos en total\n",
    "        | 'Print results' >> beam.Map(print)\n",
    "    )"
   ]
  },
  {
   "cell_type": "markdown",
   "metadata": {},
   "source": [
    "### Flatten"
   ]
  },
  {
   "cell_type": "code",
   "execution_count": 18,
   "metadata": {},
   "outputs": [
    {
     "name": "stdout",
     "output_type": "stream",
     "text": [
      "Paris\n",
      "London\n",
      "Tokyo\n",
      "Berlin\n",
      "Madrid\n",
      "Sydney\n",
      "Rome\n",
      "Beijing\n",
      "Mumbai\n",
      "Cape Town\n",
      "Moscow\n",
      "John\n",
      "Jane\n",
      "Bob\n",
      "Alice\n",
      "Charlie\n",
      "Eve\n",
      "David\n",
      "Fay\n",
      "Gary\n",
      "Holly\n",
      "Harry\n"
     ]
    }
   ],
   "source": [
    "# Function to extract names and cities from the data\n",
    "def extract_names_and_cities(element):\n",
    "    _, name, _, city = element.split(',')\n",
    "    return name, city\n",
    "\n",
    "with beam.Pipeline() as pipeline:\n",
    "    # Read data from the text file and extract names and cities\n",
    "    names_and_cities = (\n",
    "        pipeline\n",
    "        | 'Read from text file' >> beam.io.ReadFromText('data.txt')\n",
    "        | 'Extract names and cities' >> beam.Map(extract_names_and_cities)\n",
    "    )\n",
    "    \n",
    "    # Separate the names and cities into two collections\n",
    "    names = names_and_cities | 'Get names' >> beam.Map(lambda x: x[0])\n",
    "    cities = names_and_cities | 'Get cities' >> beam.Map(lambda x: x[1])\n",
    "    \n",
    "    # Use Flatten to merge the two collections\n",
    "    merged_collection = (\n",
    "        (names, cities) \n",
    "        | 'Flatten collections' >> beam.Flatten()\n",
    "        | 'Print results' >> beam.Map(print)\n",
    "    )"
   ]
  },
  {
   "cell_type": "markdown",
   "metadata": {},
   "source": [
    "### Partition "
   ]
  },
  {
   "cell_type": "code",
   "execution_count": 20,
   "metadata": {},
   "outputs": [
    {
     "name": "stdout",
     "output_type": "stream",
     "text": [
      "Consonant: John\n",
      "Consonant: Jane\n",
      "Consonant: Bob\n",
      "Vowel: Alice\n",
      "Consonant: Charlie\n",
      "Vowel: Eve\n",
      "Consonant: David\n",
      "Consonant: Fay\n",
      "Consonant: Gary\n",
      "Consonant: Holly\n",
      "Consonant: Harry\n"
     ]
    }
   ],
   "source": [
    "import apache_beam as beam\n",
    "\n",
    "# Function to determine if a name starts with a vowel\n",
    "def partition_fn(name, num_partitions):\n",
    "    vowels = 'AEIOUaeiou'\n",
    "    if name[0] in vowels:\n",
    "        return 0  # partition 0 for names starting with a vowel\n",
    "    else:\n",
    "        return 1  # partition 1 for names starting with a consonant\n",
    "\n",
    "with beam.Pipeline() as pipeline:\n",
    "    # Read data from the text file and extract names\n",
    "    names = (\n",
    "        pipeline\n",
    "        | 'Read from text file' >> beam.io.ReadFromText('data.txt')\n",
    "        | 'Extract names' >> beam.Map(lambda element: element.split(',')[1])\n",
    "    )\n",
    "    \n",
    "    # Use Partition to split names into two collections\n",
    "    vowel_names, consonant_names = (\n",
    "        names\n",
    "        | 'Partition by first letter' >> beam.Partition(partition_fn, 2)\n",
    "    )\n",
    "    \n",
    "    # Print names starting with a vowel\n",
    "    vowel_names | 'Print vowel names' >> beam.Map(lambda name: print(f'Vowel: {name}'))\n",
    "    \n",
    "    # Print names starting with a consonant\n",
    "    consonant_names | 'Print consonant names' >> beam.Map(lambda name: print(f'Consonant: {name}'))\n"
   ]
  },
  {
   "cell_type": "code",
   "execution_count": null,
   "metadata": {},
   "outputs": [],
   "source": []
  }
 ],
 "metadata": {
  "kernelspec": {
   "display_name": "Python 3",
   "language": "python",
   "name": "python3"
  },
  "language_info": {
   "codemirror_mode": {
    "name": "ipython",
    "version": 3
   },
   "file_extension": ".py",
   "mimetype": "text/x-python",
   "name": "python",
   "nbconvert_exporter": "python",
   "pygments_lexer": "ipython3",
   "version": "3.8.3"
  }
 },
 "nbformat": 4,
 "nbformat_minor": 4
}
