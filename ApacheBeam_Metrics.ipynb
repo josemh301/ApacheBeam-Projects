{
 "cells": [
  {
   "cell_type": "code",
   "execution_count": 2,
   "metadata": {},
   "outputs": [
    {
     "name": "stdout",
     "output_type": "stream",
     "text": [
      "total_amount_eur 380\n",
      "total_transactions 11\n",
      "total_amount_gbp 150\n"
     ]
    }
   ],
   "source": [
    "import apache_beam as beam\n",
    "from apache_beam.metrics import Metrics\n",
    "\n",
    "class TransactionMetricsDoFn(beam.DoFn):\n",
    "    def __init__(self):\n",
    "        # Definir métricas\n",
    "        self.total_amount_eur = Metrics.counter(self.__class__, 'total_amount_eur')\n",
    "        self.total_amount_gbp = Metrics.counter(self.__class__, 'total_amount_gbp')\n",
    "        self.total_transactions = Metrics.counter(self.__class__, 'total_transactions')\n",
    "\n",
    "    def process(self, element):\n",
    "        # Incrementar métricas según la moneda\n",
    "        if element['currency'] == 'EUR':\n",
    "            self.total_amount_eur.inc(int(element['amount']))\n",
    "        elif element['currency'] == 'GBP':\n",
    "            self.total_amount_gbp.inc(int(element['amount']))\n",
    "        \n",
    "        # Incrementar métrica de transacciones\n",
    "        self.total_transactions.inc()\n",
    "        \n",
    "        yield element\n",
    "\n",
    "# Define the pipeline\n",
    "p = beam.Pipeline()\n",
    "\n",
    "# Read from data.txt and apply the custom DoFn\n",
    "transactions = (\n",
    "    p\n",
    "    | \"Read from data.txt\" >> beam.io.ReadFromText('data.txt')\n",
    "    | \"Convert to Dict\" >> beam.Map(lambda line: {\n",
    "        \"id\": line.split(',')[0],\n",
    "        \"name\": line.split(',')[1],\n",
    "        \"amount\": float(line.split(',')[2]),\n",
    "        \"currency\": line.split(',')[3],\n",
    "        \"city\": line.split(',')[4].strip()\n",
    "    })\n",
    "    | \"Apply Custom Metrics\" >> beam.ParDo(TransactionMetricsDoFn())\n",
    "    | \"Write Results\" >> beam.io.WriteToText('outputmetrics.txt')\n",
    ")\n",
    "\n",
    "# Run the pipeline\n",
    "result = p.run()\n",
    "result.wait_until_finish()\n",
    "\n",
    "# Print the metrics\n",
    "metrics = result.metrics().query()\n",
    "for metric in metrics['counters']:\n",
    "    print(metric.key.metric.name, metric.result)\n",
    "\n"
   ]
  },
  {
   "cell_type": "code",
   "execution_count": null,
   "metadata": {},
   "outputs": [],
   "source": []
  }
 ],
 "metadata": {
  "kernelspec": {
   "display_name": "Python 3",
   "language": "python",
   "name": "python3"
  },
  "language_info": {
   "codemirror_mode": {
    "name": "ipython",
    "version": 3
   },
   "file_extension": ".py",
   "mimetype": "text/x-python",
   "name": "python",
   "nbconvert_exporter": "python",
   "pygments_lexer": "ipython3",
   "version": "3.8.3"
  }
 },
 "nbformat": 4,
 "nbformat_minor": 4
}
