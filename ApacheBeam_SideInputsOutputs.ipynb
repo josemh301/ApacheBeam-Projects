{
 "cells": [
  {
   "cell_type": "code",
   "execution_count": 10,
   "metadata": {},
   "outputs": [
    {
     "name": "stdout",
     "output_type": "stream",
     "text": [
      "Main Output: [{'id': 1, 'amount': 120.0, 'currency': 'USD'}, {'id': 2, 'amount': 280.0, 'currency': 'USD'}]\n",
      "Error Output: [({'id': 3, 'amount': 150, 'currency': 'UNKNOWN'}, 'UNKNOWN CURRENCY')]\n"
     ]
    }
   ],
   "source": [
    "transactions = [\n",
    "    {\"id\": 1, \"amount\": 100, \"currency\": \"EUR\"},\n",
    "    {\"id\": 2, \"amount\": 200, \"currency\": \"GBP\"},\n",
    "    {\"id\": 3, \"amount\": 150, \"currency\": \"UNKNOWN\"}\n",
    "]\n",
    "\n",
    "conversion_rates = {\n",
    "    \"EUR\": 1.2,  # 1 EUR = 1.2 USD\n",
    "    \"GBP\": 1.4   # 1 GBP = 1.4 USD\n",
    "}\n",
    "\n",
    "def convert_to_usd(transaction, rates):\n",
    "    rate = rates.get(transaction[\"currency\"])\n",
    "    if rate:\n",
    "        transaction[\"amount\"] = transaction[\"amount\"] * rate\n",
    "        transaction[\"currency\"] = \"USD\"\n",
    "        return transaction\n",
    "    else:\n",
    "        # Return to side output if currency is unknown\n",
    "        return (transaction, \"UNKNOWN CURRENCY\")\n",
    "\n",
    "main_output = []\n",
    "error_output = []\n",
    "\n",
    "for transaction in transactions:\n",
    "    result = convert_to_usd(transaction, conversion_rates)\n",
    "    if isinstance(result, tuple):\n",
    "        error_output.append(result)\n",
    "    else:\n",
    "        main_output.append(result)\n",
    "\n",
    "print(\"Main Output:\", main_output)\n",
    "print(\"Error Output:\", error_output)\n"
   ]
  },
  {
   "cell_type": "code",
   "execution_count": null,
   "metadata": {},
   "outputs": [],
   "source": []
  }
 ],
 "metadata": {
  "kernelspec": {
   "display_name": "Python 3",
   "language": "python",
   "name": "python3"
  },
  "language_info": {
   "codemirror_mode": {
    "name": "ipython",
    "version": 3
   },
   "file_extension": ".py",
   "mimetype": "text/x-python",
   "name": "python",
   "nbconvert_exporter": "python",
   "pygments_lexer": "ipython3",
   "version": "3.8.3"
  }
 },
 "nbformat": 4,
 "nbformat_minor": 4
}
