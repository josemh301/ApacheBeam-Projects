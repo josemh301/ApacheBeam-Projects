{
 "cells": [
  {
   "cell_type": "code",
   "execution_count": 1,
   "metadata": {},
   "outputs": [
    {
     "name": "stderr",
     "output_type": "stream",
     "text": [
      "WARNING:apache_beam.runners.interactive.interactive_environment:Dependencies required for Interactive Beam PCollection visualization are not available, please use: `pip install apache-beam[interactive]` to install necessary dependencies to enable all data visualization features.\n"
     ]
    },
    {
     "data": {
      "application/javascript": [
       "\n",
       "        if (typeof window.interactive_beam_jquery == 'undefined') {\n",
       "          var jqueryScript = document.createElement('script');\n",
       "          jqueryScript.src = 'https://code.jquery.com/jquery-3.4.1.slim.min.js';\n",
       "          jqueryScript.type = 'text/javascript';\n",
       "          jqueryScript.onload = function() {\n",
       "            var datatableScript = document.createElement('script');\n",
       "            datatableScript.src = 'https://cdn.datatables.net/1.10.20/js/jquery.dataTables.min.js';\n",
       "            datatableScript.type = 'text/javascript';\n",
       "            datatableScript.onload = function() {\n",
       "              window.interactive_beam_jquery = jQuery.noConflict(true);\n",
       "              window.interactive_beam_jquery(document).ready(function($){\n",
       "                \n",
       "              });\n",
       "            }\n",
       "            document.head.appendChild(datatableScript);\n",
       "          };\n",
       "          document.head.appendChild(jqueryScript);\n",
       "        } else {\n",
       "          window.interactive_beam_jquery(document).ready(function($){\n",
       "            \n",
       "          });\n",
       "        }"
      ]
     },
     "metadata": {},
     "output_type": "display_data"
    }
   ],
   "source": [
    "import apache_beam as beam\n",
    "\n",
    "# Define the conversion function\n",
    "def convert_to_usd(element):\n",
    "    account, name, amount, currency, city = element.split(',')\n",
    "    usd_conversion = {\n",
    "        'EUR': 1.12,\n",
    "        'GBP': 1.3,\n",
    "        'JPY': 0.0094,\n",
    "        'AUD': 0.7,\n",
    "        'CNY': 0.15,\n",
    "        'INR': 0.014,\n",
    "        'ZAR': 0.07,\n",
    "        'RUB': 0.014\n",
    "    }\n",
    "    amount_usd = float(amount) * usd_conversion.get(currency, 1)\n",
    "    return f\"{account},{name},{amount_usd:.2f},USD,{city}\"\n",
    "\n",
    "# Create the pipeline\n",
    "with beam.Pipeline(runner='DirectRunner') as p:\n",
    "    (\n",
    "        p\n",
    "        | \"Read from data.txt\" >> beam.io.ReadFromText('data.txt')\n",
    "        | \"Convert to USD\" >> beam.Map(convert_to_usd)\n",
    "        | \"Write Results\" >> beam.io.WriteToText('output_usd_v2.txt')\n",
    "    )\n"
   ]
  },
  {
   "cell_type": "code",
   "execution_count": null,
   "metadata": {},
   "outputs": [],
   "source": []
  }
 ],
 "metadata": {
  "kernelspec": {
   "display_name": "Python 3",
   "language": "python",
   "name": "python3"
  },
  "language_info": {
   "codemirror_mode": {
    "name": "ipython",
    "version": 3
   },
   "file_extension": ".py",
   "mimetype": "text/x-python",
   "name": "python",
   "nbconvert_exporter": "python",
   "pygments_lexer": "ipython3",
   "version": "3.8.3"
  }
 },
 "nbformat": 4,
 "nbformat_minor": 4
}
